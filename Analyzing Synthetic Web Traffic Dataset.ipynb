{
 "cells": [
  {
   "cell_type": "code",
   "execution_count": null,
   "id": "0b69d6ef",
   "metadata": {},
   "outputs": [],
   "source": [
    "from urllib.request import urlretrieve\n",
    "urlretrieve(\"https://bitbucket.org/alvinwan/skillshare-data-101/raw/9b7ed1fd0b4b73fdd3f5a4a6cf67a532efb79635/views.pkl\", filename=\"views.pkl\")"
   ]
  },
  {
   "cell_type": "code",
   "execution_count": 1,
   "id": "4b376ea6",
   "metadata": {},
   "outputs": [
    {
     "data": {
      "text/html": [
       "<div>\n",
       "<style scoped>\n",
       "    .dataframe tbody tr th:only-of-type {\n",
       "        vertical-align: middle;\n",
       "    }\n",
       "\n",
       "    .dataframe tbody tr th {\n",
       "        vertical-align: top;\n",
       "    }\n",
       "\n",
       "    .dataframe thead th {\n",
       "        text-align: right;\n",
       "    }\n",
       "</style>\n",
       "<table border=\"1\" class=\"dataframe\">\n",
       "  <thead>\n",
       "    <tr style=\"text-align: right;\">\n",
       "      <th></th>\n",
       "      <th>page_load_ms</th>\n",
       "      <th>video_watched_s</th>\n",
       "      <th>product_s</th>\n",
       "      <th>pricing_s</th>\n",
       "      <th>has_clicked</th>\n",
       "      <th>webpage</th>\n",
       "    </tr>\n",
       "    <tr>\n",
       "      <th>created_at</th>\n",
       "      <th></th>\n",
       "      <th></th>\n",
       "      <th></th>\n",
       "      <th></th>\n",
       "      <th></th>\n",
       "      <th></th>\n",
       "    </tr>\n",
       "  </thead>\n",
       "  <tbody>\n",
       "    <tr>\n",
       "      <th>2020-01-01 22:26:00</th>\n",
       "      <td>466.0</td>\n",
       "      <td>51.402986</td>\n",
       "      <td>3.003098</td>\n",
       "      <td>0.000000</td>\n",
       "      <td>True</td>\n",
       "      <td>A</td>\n",
       "    </tr>\n",
       "    <tr>\n",
       "      <th>2020-01-01 09:03:00</th>\n",
       "      <td>452.0</td>\n",
       "      <td>14.306381</td>\n",
       "      <td>14.203443</td>\n",
       "      <td>0.000000</td>\n",
       "      <td>True</td>\n",
       "      <td>A</td>\n",
       "    </tr>\n",
       "    <tr>\n",
       "      <th>2020-01-01 18:26:00</th>\n",
       "      <td>414.0</td>\n",
       "      <td>29.431619</td>\n",
       "      <td>3.958222</td>\n",
       "      <td>0.000000</td>\n",
       "      <td>True</td>\n",
       "      <td>A</td>\n",
       "    </tr>\n",
       "    <tr>\n",
       "      <th>2020-01-01 04:46:00</th>\n",
       "      <td>412.0</td>\n",
       "      <td>35.388779</td>\n",
       "      <td>1.629017</td>\n",
       "      <td>0.000000</td>\n",
       "      <td>True</td>\n",
       "      <td>A</td>\n",
       "    </tr>\n",
       "    <tr>\n",
       "      <th>2020-01-01 07:58:00</th>\n",
       "      <td>388.0</td>\n",
       "      <td>17.810023</td>\n",
       "      <td>13.045069</td>\n",
       "      <td>0.000000</td>\n",
       "      <td>True</td>\n",
       "      <td>A</td>\n",
       "    </tr>\n",
       "    <tr>\n",
       "      <th>...</th>\n",
       "      <td>...</td>\n",
       "      <td>...</td>\n",
       "      <td>...</td>\n",
       "      <td>...</td>\n",
       "      <td>...</td>\n",
       "      <td>...</td>\n",
       "    </tr>\n",
       "    <tr>\n",
       "      <th>2020-04-09 20:06:00</th>\n",
       "      <td>408.0</td>\n",
       "      <td>0.000000</td>\n",
       "      <td>10.592185</td>\n",
       "      <td>2.328005</td>\n",
       "      <td>False</td>\n",
       "      <td>B</td>\n",
       "    </tr>\n",
       "    <tr>\n",
       "      <th>2020-04-09 05:08:00</th>\n",
       "      <td>461.0</td>\n",
       "      <td>0.000000</td>\n",
       "      <td>13.423557</td>\n",
       "      <td>1.857177</td>\n",
       "      <td>False</td>\n",
       "      <td>B</td>\n",
       "    </tr>\n",
       "    <tr>\n",
       "      <th>2020-04-09 08:38:00</th>\n",
       "      <td>535.0</td>\n",
       "      <td>0.000000</td>\n",
       "      <td>8.708851</td>\n",
       "      <td>1.313290</td>\n",
       "      <td>False</td>\n",
       "      <td>B</td>\n",
       "    </tr>\n",
       "    <tr>\n",
       "      <th>2020-04-09 09:17:00</th>\n",
       "      <td>505.0</td>\n",
       "      <td>0.000000</td>\n",
       "      <td>10.016819</td>\n",
       "      <td>1.229466</td>\n",
       "      <td>False</td>\n",
       "      <td>B</td>\n",
       "    </tr>\n",
       "    <tr>\n",
       "      <th>2020-04-09 02:56:00</th>\n",
       "      <td>512.0</td>\n",
       "      <td>0.000000</td>\n",
       "      <td>1.250193</td>\n",
       "      <td>1.011314</td>\n",
       "      <td>False</td>\n",
       "      <td>B</td>\n",
       "    </tr>\n",
       "  </tbody>\n",
       "</table>\n",
       "<p>119159 rows × 6 columns</p>\n",
       "</div>"
      ],
      "text/plain": [
       "                     page_load_ms  video_watched_s  product_s  pricing_s  \\\n",
       "created_at                                                                 \n",
       "2020-01-01 22:26:00         466.0        51.402986   3.003098   0.000000   \n",
       "2020-01-01 09:03:00         452.0        14.306381  14.203443   0.000000   \n",
       "2020-01-01 18:26:00         414.0        29.431619   3.958222   0.000000   \n",
       "2020-01-01 04:46:00         412.0        35.388779   1.629017   0.000000   \n",
       "2020-01-01 07:58:00         388.0        17.810023  13.045069   0.000000   \n",
       "...                           ...              ...        ...        ...   \n",
       "2020-04-09 20:06:00         408.0         0.000000  10.592185   2.328005   \n",
       "2020-04-09 05:08:00         461.0         0.000000  13.423557   1.857177   \n",
       "2020-04-09 08:38:00         535.0         0.000000   8.708851   1.313290   \n",
       "2020-04-09 09:17:00         505.0         0.000000  10.016819   1.229466   \n",
       "2020-04-09 02:56:00         512.0         0.000000   1.250193   1.011314   \n",
       "\n",
       "                     has_clicked webpage  \n",
       "created_at                                \n",
       "2020-01-01 22:26:00         True       A  \n",
       "2020-01-01 09:03:00         True       A  \n",
       "2020-01-01 18:26:00         True       A  \n",
       "2020-01-01 04:46:00         True       A  \n",
       "2020-01-01 07:58:00         True       A  \n",
       "...                          ...     ...  \n",
       "2020-04-09 20:06:00        False       B  \n",
       "2020-04-09 05:08:00        False       B  \n",
       "2020-04-09 08:38:00        False       B  \n",
       "2020-04-09 09:17:00        False       B  \n",
       "2020-04-09 02:56:00        False       B  \n",
       "\n",
       "[119159 rows x 6 columns]"
      ]
     },
     "execution_count": 1,
     "metadata": {},
     "output_type": "execute_result"
    }
   ],
   "source": [
    "import pandas as pd\n",
    "df = pd.read_pickle(\"views.pkl\")\n",
    "df"
   ]
  },
  {
   "cell_type": "code",
   "execution_count": 2,
   "id": "16778113",
   "metadata": {},
   "outputs": [
    {
     "data": {
      "text/plain": [
       "page_load_ms       700.903239\n",
       "video_watched_s      7.951220\n",
       "product_s            7.999328\n",
       "pricing_s            0.996568\n",
       "has_clicked          0.342995\n",
       "dtype: float64"
      ]
     },
     "execution_count": 2,
     "metadata": {},
     "output_type": "execute_result"
    }
   ],
   "source": [
    "df.mean()"
   ]
  },
  {
   "cell_type": "code",
   "execution_count": 3,
   "id": "449a0c51",
   "metadata": {},
   "outputs": [
    {
     "data": {
      "text/plain": [
       "page_load_ms          350.0\n",
       "video_watched_s         0.0\n",
       "product_s          1.000084\n",
       "pricing_s               0.0\n",
       "has_clicked           False\n",
       "webpage                   A\n",
       "dtype: object"
      ]
     },
     "execution_count": 3,
     "metadata": {},
     "output_type": "execute_result"
    }
   ],
   "source": [
    "df.min()"
   ]
  },
  {
   "cell_type": "code",
   "execution_count": 4,
   "id": "f904633f",
   "metadata": {},
   "outputs": [
    {
     "data": {
      "text/plain": [
       "<bound method DataFrame.drop_duplicates of                      page_load_ms  video_watched_s  product_s  pricing_s  \\\n",
       "created_at                                                                 \n",
       "2020-01-01 22:26:00         466.0        51.402986   3.003098   0.000000   \n",
       "2020-01-01 09:03:00         452.0        14.306381  14.203443   0.000000   \n",
       "2020-01-01 18:26:00         414.0        29.431619   3.958222   0.000000   \n",
       "2020-01-01 04:46:00         412.0        35.388779   1.629017   0.000000   \n",
       "2020-01-01 07:58:00         388.0        17.810023  13.045069   0.000000   \n",
       "...                           ...              ...        ...        ...   \n",
       "2020-04-09 20:06:00         408.0         0.000000  10.592185   2.328005   \n",
       "2020-04-09 05:08:00         461.0         0.000000  13.423557   1.857177   \n",
       "2020-04-09 08:38:00         535.0         0.000000   8.708851   1.313290   \n",
       "2020-04-09 09:17:00         505.0         0.000000  10.016819   1.229466   \n",
       "2020-04-09 02:56:00         512.0         0.000000   1.250193   1.011314   \n",
       "\n",
       "                     has_clicked webpage  \n",
       "created_at                                \n",
       "2020-01-01 22:26:00         True       A  \n",
       "2020-01-01 09:03:00         True       A  \n",
       "2020-01-01 18:26:00         True       A  \n",
       "2020-01-01 04:46:00         True       A  \n",
       "2020-01-01 07:58:00         True       A  \n",
       "...                          ...     ...  \n",
       "2020-04-09 20:06:00        False       B  \n",
       "2020-04-09 05:08:00        False       B  \n",
       "2020-04-09 08:38:00        False       B  \n",
       "2020-04-09 09:17:00        False       B  \n",
       "2020-04-09 02:56:00        False       B  \n",
       "\n",
       "[119159 rows x 6 columns]>"
      ]
     },
     "execution_count": 4,
     "metadata": {},
     "output_type": "execute_result"
    }
   ],
   "source": [
    "df.drop_duplicates"
   ]
  },
  {
   "cell_type": "code",
   "execution_count": 5,
   "id": "2f57bfd4",
   "metadata": {},
   "outputs": [
    {
     "data": {
      "text/html": [
       "<div>\n",
       "<style scoped>\n",
       "    .dataframe tbody tr th:only-of-type {\n",
       "        vertical-align: middle;\n",
       "    }\n",
       "\n",
       "    .dataframe tbody tr th {\n",
       "        vertical-align: top;\n",
       "    }\n",
       "\n",
       "    .dataframe thead th {\n",
       "        text-align: right;\n",
       "    }\n",
       "</style>\n",
       "<table border=\"1\" class=\"dataframe\">\n",
       "  <thead>\n",
       "    <tr style=\"text-align: right;\">\n",
       "      <th></th>\n",
       "      <th>page_load_ms</th>\n",
       "      <th>video_watched_s</th>\n",
       "      <th>product_s</th>\n",
       "      <th>pricing_s</th>\n",
       "      <th>has_clicked</th>\n",
       "      <th>webpage</th>\n",
       "    </tr>\n",
       "    <tr>\n",
       "      <th>created_at</th>\n",
       "      <th></th>\n",
       "      <th></th>\n",
       "      <th></th>\n",
       "      <th></th>\n",
       "      <th></th>\n",
       "      <th></th>\n",
       "    </tr>\n",
       "  </thead>\n",
       "  <tbody>\n",
       "    <tr>\n",
       "      <th>2020-01-01 22:26:00</th>\n",
       "      <td>466.0</td>\n",
       "      <td>51.402986</td>\n",
       "      <td>3.003098</td>\n",
       "      <td>0.000000</td>\n",
       "      <td>True</td>\n",
       "      <td>A</td>\n",
       "    </tr>\n",
       "    <tr>\n",
       "      <th>2020-01-01 09:03:00</th>\n",
       "      <td>452.0</td>\n",
       "      <td>14.306381</td>\n",
       "      <td>14.203443</td>\n",
       "      <td>0.000000</td>\n",
       "      <td>True</td>\n",
       "      <td>A</td>\n",
       "    </tr>\n",
       "    <tr>\n",
       "      <th>2020-01-01 18:26:00</th>\n",
       "      <td>414.0</td>\n",
       "      <td>29.431619</td>\n",
       "      <td>3.958222</td>\n",
       "      <td>0.000000</td>\n",
       "      <td>True</td>\n",
       "      <td>A</td>\n",
       "    </tr>\n",
       "    <tr>\n",
       "      <th>2020-01-01 04:46:00</th>\n",
       "      <td>412.0</td>\n",
       "      <td>35.388779</td>\n",
       "      <td>1.629017</td>\n",
       "      <td>0.000000</td>\n",
       "      <td>True</td>\n",
       "      <td>A</td>\n",
       "    </tr>\n",
       "    <tr>\n",
       "      <th>2020-01-01 07:58:00</th>\n",
       "      <td>388.0</td>\n",
       "      <td>17.810023</td>\n",
       "      <td>13.045069</td>\n",
       "      <td>0.000000</td>\n",
       "      <td>True</td>\n",
       "      <td>A</td>\n",
       "    </tr>\n",
       "    <tr>\n",
       "      <th>...</th>\n",
       "      <td>...</td>\n",
       "      <td>...</td>\n",
       "      <td>...</td>\n",
       "      <td>...</td>\n",
       "      <td>...</td>\n",
       "      <td>...</td>\n",
       "    </tr>\n",
       "    <tr>\n",
       "      <th>2020-04-09 20:06:00</th>\n",
       "      <td>408.0</td>\n",
       "      <td>0.000000</td>\n",
       "      <td>10.592185</td>\n",
       "      <td>2.328005</td>\n",
       "      <td>False</td>\n",
       "      <td>B</td>\n",
       "    </tr>\n",
       "    <tr>\n",
       "      <th>2020-04-09 05:08:00</th>\n",
       "      <td>461.0</td>\n",
       "      <td>0.000000</td>\n",
       "      <td>13.423557</td>\n",
       "      <td>1.857177</td>\n",
       "      <td>False</td>\n",
       "      <td>B</td>\n",
       "    </tr>\n",
       "    <tr>\n",
       "      <th>2020-04-09 08:38:00</th>\n",
       "      <td>535.0</td>\n",
       "      <td>0.000000</td>\n",
       "      <td>8.708851</td>\n",
       "      <td>1.313290</td>\n",
       "      <td>False</td>\n",
       "      <td>B</td>\n",
       "    </tr>\n",
       "    <tr>\n",
       "      <th>2020-04-09 09:17:00</th>\n",
       "      <td>505.0</td>\n",
       "      <td>0.000000</td>\n",
       "      <td>10.016819</td>\n",
       "      <td>1.229466</td>\n",
       "      <td>False</td>\n",
       "      <td>B</td>\n",
       "    </tr>\n",
       "    <tr>\n",
       "      <th>2020-04-09 02:56:00</th>\n",
       "      <td>512.0</td>\n",
       "      <td>0.000000</td>\n",
       "      <td>1.250193</td>\n",
       "      <td>1.011314</td>\n",
       "      <td>False</td>\n",
       "      <td>B</td>\n",
       "    </tr>\n",
       "  </tbody>\n",
       "</table>\n",
       "<p>119159 rows × 6 columns</p>\n",
       "</div>"
      ],
      "text/plain": [
       "                     page_load_ms  video_watched_s  product_s  pricing_s  \\\n",
       "created_at                                                                 \n",
       "2020-01-01 22:26:00         466.0        51.402986   3.003098   0.000000   \n",
       "2020-01-01 09:03:00         452.0        14.306381  14.203443   0.000000   \n",
       "2020-01-01 18:26:00         414.0        29.431619   3.958222   0.000000   \n",
       "2020-01-01 04:46:00         412.0        35.388779   1.629017   0.000000   \n",
       "2020-01-01 07:58:00         388.0        17.810023  13.045069   0.000000   \n",
       "...                           ...              ...        ...        ...   \n",
       "2020-04-09 20:06:00         408.0         0.000000  10.592185   2.328005   \n",
       "2020-04-09 05:08:00         461.0         0.000000  13.423557   1.857177   \n",
       "2020-04-09 08:38:00         535.0         0.000000   8.708851   1.313290   \n",
       "2020-04-09 09:17:00         505.0         0.000000  10.016819   1.229466   \n",
       "2020-04-09 02:56:00         512.0         0.000000   1.250193   1.011314   \n",
       "\n",
       "                     has_clicked webpage  \n",
       "created_at                                \n",
       "2020-01-01 22:26:00         True       A  \n",
       "2020-01-01 09:03:00         True       A  \n",
       "2020-01-01 18:26:00         True       A  \n",
       "2020-01-01 04:46:00         True       A  \n",
       "2020-01-01 07:58:00         True       A  \n",
       "...                          ...     ...  \n",
       "2020-04-09 20:06:00        False       B  \n",
       "2020-04-09 05:08:00        False       B  \n",
       "2020-04-09 08:38:00        False       B  \n",
       "2020-04-09 09:17:00        False       B  \n",
       "2020-04-09 02:56:00        False       B  \n",
       "\n",
       "[119159 rows x 6 columns]"
      ]
     },
     "execution_count": 5,
     "metadata": {},
     "output_type": "execute_result"
    }
   ],
   "source": [
    "df.fillna(df.mean())"
   ]
  },
  {
   "cell_type": "code",
   "execution_count": 6,
   "id": "b307bd4b",
   "metadata": {},
   "outputs": [
    {
     "data": {
      "text/plain": [
       "69.9998447428469"
      ]
     },
     "execution_count": 6,
     "metadata": {},
     "output_type": "execute_result"
    }
   ],
   "source": [
    "df[\"video_watched_s\"].max()"
   ]
  },
  {
   "cell_type": "code",
   "execution_count": 7,
   "id": "46313cae",
   "metadata": {},
   "outputs": [
    {
     "data": {
      "text/html": [
       "<div>\n",
       "<style scoped>\n",
       "    .dataframe tbody tr th:only-of-type {\n",
       "        vertical-align: middle;\n",
       "    }\n",
       "\n",
       "    .dataframe tbody tr th {\n",
       "        vertical-align: top;\n",
       "    }\n",
       "\n",
       "    .dataframe thead th {\n",
       "        text-align: right;\n",
       "    }\n",
       "</style>\n",
       "<table border=\"1\" class=\"dataframe\">\n",
       "  <thead>\n",
       "    <tr style=\"text-align: right;\">\n",
       "      <th></th>\n",
       "      <th>page_load_ms</th>\n",
       "      <th>video_watched_s</th>\n",
       "      <th>product_s</th>\n",
       "      <th>pricing_s</th>\n",
       "      <th>has_clicked</th>\n",
       "      <th>webpage</th>\n",
       "      <th>video_watched_trunc</th>\n",
       "    </tr>\n",
       "    <tr>\n",
       "      <th>created_at</th>\n",
       "      <th></th>\n",
       "      <th></th>\n",
       "      <th></th>\n",
       "      <th></th>\n",
       "      <th></th>\n",
       "      <th></th>\n",
       "      <th></th>\n",
       "    </tr>\n",
       "  </thead>\n",
       "  <tbody>\n",
       "    <tr>\n",
       "      <th>2020-01-01 22:26:00</th>\n",
       "      <td>466.0</td>\n",
       "      <td>51.402986</td>\n",
       "      <td>3.003098</td>\n",
       "      <td>0.000000</td>\n",
       "      <td>True</td>\n",
       "      <td>A</td>\n",
       "      <td>51.402986</td>\n",
       "    </tr>\n",
       "    <tr>\n",
       "      <th>2020-01-01 09:03:00</th>\n",
       "      <td>452.0</td>\n",
       "      <td>14.306381</td>\n",
       "      <td>14.203443</td>\n",
       "      <td>0.000000</td>\n",
       "      <td>True</td>\n",
       "      <td>A</td>\n",
       "      <td>14.306381</td>\n",
       "    </tr>\n",
       "    <tr>\n",
       "      <th>2020-01-01 18:26:00</th>\n",
       "      <td>414.0</td>\n",
       "      <td>29.431619</td>\n",
       "      <td>3.958222</td>\n",
       "      <td>0.000000</td>\n",
       "      <td>True</td>\n",
       "      <td>A</td>\n",
       "      <td>29.431619</td>\n",
       "    </tr>\n",
       "    <tr>\n",
       "      <th>2020-01-01 04:46:00</th>\n",
       "      <td>412.0</td>\n",
       "      <td>35.388779</td>\n",
       "      <td>1.629017</td>\n",
       "      <td>0.000000</td>\n",
       "      <td>True</td>\n",
       "      <td>A</td>\n",
       "      <td>35.388779</td>\n",
       "    </tr>\n",
       "    <tr>\n",
       "      <th>2020-01-01 07:58:00</th>\n",
       "      <td>388.0</td>\n",
       "      <td>17.810023</td>\n",
       "      <td>13.045069</td>\n",
       "      <td>0.000000</td>\n",
       "      <td>True</td>\n",
       "      <td>A</td>\n",
       "      <td>17.810023</td>\n",
       "    </tr>\n",
       "    <tr>\n",
       "      <th>...</th>\n",
       "      <td>...</td>\n",
       "      <td>...</td>\n",
       "      <td>...</td>\n",
       "      <td>...</td>\n",
       "      <td>...</td>\n",
       "      <td>...</td>\n",
       "      <td>...</td>\n",
       "    </tr>\n",
       "    <tr>\n",
       "      <th>2020-04-09 20:06:00</th>\n",
       "      <td>408.0</td>\n",
       "      <td>0.000000</td>\n",
       "      <td>10.592185</td>\n",
       "      <td>2.328005</td>\n",
       "      <td>False</td>\n",
       "      <td>B</td>\n",
       "      <td>0.000000</td>\n",
       "    </tr>\n",
       "    <tr>\n",
       "      <th>2020-04-09 05:08:00</th>\n",
       "      <td>461.0</td>\n",
       "      <td>0.000000</td>\n",
       "      <td>13.423557</td>\n",
       "      <td>1.857177</td>\n",
       "      <td>False</td>\n",
       "      <td>B</td>\n",
       "      <td>0.000000</td>\n",
       "    </tr>\n",
       "    <tr>\n",
       "      <th>2020-04-09 08:38:00</th>\n",
       "      <td>535.0</td>\n",
       "      <td>0.000000</td>\n",
       "      <td>8.708851</td>\n",
       "      <td>1.313290</td>\n",
       "      <td>False</td>\n",
       "      <td>B</td>\n",
       "      <td>0.000000</td>\n",
       "    </tr>\n",
       "    <tr>\n",
       "      <th>2020-04-09 09:17:00</th>\n",
       "      <td>505.0</td>\n",
       "      <td>0.000000</td>\n",
       "      <td>10.016819</td>\n",
       "      <td>1.229466</td>\n",
       "      <td>False</td>\n",
       "      <td>B</td>\n",
       "      <td>0.000000</td>\n",
       "    </tr>\n",
       "    <tr>\n",
       "      <th>2020-04-09 02:56:00</th>\n",
       "      <td>512.0</td>\n",
       "      <td>0.000000</td>\n",
       "      <td>1.250193</td>\n",
       "      <td>1.011314</td>\n",
       "      <td>False</td>\n",
       "      <td>B</td>\n",
       "      <td>0.000000</td>\n",
       "    </tr>\n",
       "  </tbody>\n",
       "</table>\n",
       "<p>119159 rows × 7 columns</p>\n",
       "</div>"
      ],
      "text/plain": [
       "                     page_load_ms  video_watched_s  product_s  pricing_s  \\\n",
       "created_at                                                                 \n",
       "2020-01-01 22:26:00         466.0        51.402986   3.003098   0.000000   \n",
       "2020-01-01 09:03:00         452.0        14.306381  14.203443   0.000000   \n",
       "2020-01-01 18:26:00         414.0        29.431619   3.958222   0.000000   \n",
       "2020-01-01 04:46:00         412.0        35.388779   1.629017   0.000000   \n",
       "2020-01-01 07:58:00         388.0        17.810023  13.045069   0.000000   \n",
       "...                           ...              ...        ...        ...   \n",
       "2020-04-09 20:06:00         408.0         0.000000  10.592185   2.328005   \n",
       "2020-04-09 05:08:00         461.0         0.000000  13.423557   1.857177   \n",
       "2020-04-09 08:38:00         535.0         0.000000   8.708851   1.313290   \n",
       "2020-04-09 09:17:00         505.0         0.000000  10.016819   1.229466   \n",
       "2020-04-09 02:56:00         512.0         0.000000   1.250193   1.011314   \n",
       "\n",
       "                     has_clicked webpage  video_watched_trunc  \n",
       "created_at                                                     \n",
       "2020-01-01 22:26:00         True       A            51.402986  \n",
       "2020-01-01 09:03:00         True       A            14.306381  \n",
       "2020-01-01 18:26:00         True       A            29.431619  \n",
       "2020-01-01 04:46:00         True       A            35.388779  \n",
       "2020-01-01 07:58:00         True       A            17.810023  \n",
       "...                          ...     ...                  ...  \n",
       "2020-04-09 20:06:00        False       B             0.000000  \n",
       "2020-04-09 05:08:00        False       B             0.000000  \n",
       "2020-04-09 08:38:00        False       B             0.000000  \n",
       "2020-04-09 09:17:00        False       B             0.000000  \n",
       "2020-04-09 02:56:00        False       B             0.000000  \n",
       "\n",
       "[119159 rows x 7 columns]"
      ]
     },
     "execution_count": 7,
     "metadata": {},
     "output_type": "execute_result"
    }
   ],
   "source": [
    "df[\"video_watched_trunc\"] = df[\"video_watched_s\"].clip(0,60)\n",
    "df"
   ]
  },
  {
   "cell_type": "code",
   "execution_count": 8,
   "id": "6dbd5170",
   "metadata": {},
   "outputs": [
    {
     "data": {
      "text/plain": [
       "Index(['page_load_ms', 'video_watched_s', 'product_s', 'pricing_s',\n",
       "       'has_clicked', 'webpage', 'video_watched_trunc'],\n",
       "      dtype='object')"
      ]
     },
     "execution_count": 8,
     "metadata": {},
     "output_type": "execute_result"
    }
   ],
   "source": [
    "df.columns"
   ]
  },
  {
   "cell_type": "code",
   "execution_count": 9,
   "id": "13b61396",
   "metadata": {},
   "outputs": [
    {
     "data": {
      "text/plain": [
       "Timedelta('99 days 23:58:00')"
      ]
     },
     "execution_count": 9,
     "metadata": {},
     "output_type": "execute_result"
    }
   ],
   "source": [
    "df.index.max() - df.index.min()"
   ]
  },
  {
   "cell_type": "code",
   "execution_count": 13,
   "id": "52325304",
   "metadata": {},
   "outputs": [],
   "source": [
    "def events_per_day(df):\n",
    "    datetimes = df.index\n",
    "    days = datetimes.floor(\"d\")\n",
    "    events_per_day = days.value_counts()\n",
    "    return events_per_day.sort_index()"
   ]
  },
  {
   "cell_type": "code",
   "execution_count": 14,
   "id": "97ad26b8",
   "metadata": {},
   "outputs": [
    {
     "data": {
      "text/plain": [
       "2020-01-01     985\n",
       "2020-01-02    1078\n",
       "2020-01-03     930\n",
       "2020-01-04    1134\n",
       "2020-01-05     845\n",
       "              ... \n",
       "2020-04-05    1919\n",
       "2020-04-06    1813\n",
       "2020-04-07    1727\n",
       "2020-04-08    1952\n",
       "2020-04-09    1798\n",
       "Name: created_at, Length: 100, dtype: int64"
      ]
     },
     "execution_count": 14,
     "metadata": {},
     "output_type": "execute_result"
    }
   ],
   "source": [
    "events_per_day(df)"
   ]
  },
  {
   "cell_type": "code",
   "execution_count": 16,
   "id": "5a78bb4c",
   "metadata": {},
   "outputs": [],
   "source": [
    "def get_clicks_events(df):\n",
    "    selector = df[\"has_clicked\"]\n",
    "    clicks = df[selector]\n",
    "    return clicks"
   ]
  },
  {
   "cell_type": "code",
   "execution_count": 17,
   "id": "5ed00aa4",
   "metadata": {},
   "outputs": [
    {
     "data": {
      "text/plain": [
       "2020-01-01    514\n",
       "2020-01-02    494\n",
       "2020-01-03    509\n",
       "2020-01-04    556\n",
       "2020-01-05    489\n",
       "             ... \n",
       "2020-04-05    362\n",
       "2020-04-06    381\n",
       "2020-04-07    404\n",
       "2020-04-08    457\n",
       "2020-04-09    404\n",
       "Name: created_at, Length: 100, dtype: int64"
      ]
     },
     "execution_count": 17,
     "metadata": {},
     "output_type": "execute_result"
    }
   ],
   "source": [
    "clicks = get_clicks_events(df)\n",
    "clicks_per_day = events_per_day(clicks)\n",
    "clicks_per_day"
   ]
  },
  {
   "cell_type": "code",
   "execution_count": 18,
   "id": "433c124c",
   "metadata": {},
   "outputs": [
    {
     "data": {
      "text/plain": [
       "array([514, 494, 509, 556, 489, 471, 524, 502, 435, 500, 539, 493, 503,\n",
       "       502, 523, 446, 498, 535, 541, 555, 498, 441, 496, 540, 502, 464,\n",
       "       488, 490, 499, 527, 489, 518, 469, 417, 453, 478, 414, 471, 398,\n",
       "       437, 470, 435, 410, 443, 432, 397, 401, 385, 372, 345, 370, 352,\n",
       "       389, 382, 389, 362, 324, 350, 397, 371, 350, 374, 322, 315, 413,\n",
       "       369, 345, 265, 302, 292, 281, 287, 323, 307, 269, 279, 288, 314,\n",
       "       294, 307, 301, 303, 351, 320, 309, 317, 295, 345, 376, 363, 368,\n",
       "       358, 403, 406, 358, 362, 381, 404, 457, 404], dtype=int64)"
      ]
     },
     "execution_count": 18,
     "metadata": {},
     "output_type": "execute_result"
    }
   ],
   "source": [
    "clicks_per_day.values"
   ]
  },
  {
   "cell_type": "code",
   "execution_count": 20,
   "id": "3b3684cd",
   "metadata": {},
   "outputs": [
    {
     "ename": "NameError",
     "evalue": "name 'views_per_day' is not defined",
     "output_type": "error",
     "traceback": [
      "\u001b[1;31m---------------------------------------------------------------------------\u001b[0m",
      "\u001b[1;31mNameError\u001b[0m                                 Traceback (most recent call last)",
      "\u001b[1;32m<ipython-input-20-5b515e102c16>\u001b[0m in \u001b[0;36m<module>\u001b[1;34m\u001b[0m\n\u001b[1;32m----> 1\u001b[1;33m \u001b[0mclicks_per_day\u001b[0m\u001b[1;33m.\u001b[0m\u001b[0mvalues\u001b[0m \u001b[1;33m<=\u001b[0m \u001b[0mviews_per_day\u001b[0m\u001b[1;33m.\u001b[0m\u001b[0mvalues\u001b[0m\u001b[1;33m\u001b[0m\u001b[1;33m\u001b[0m\u001b[0m\n\u001b[0m",
      "\u001b[1;31mNameError\u001b[0m: name 'views_per_day' is not defined"
     ]
    }
   ],
   "source": [
    "clicks_per_day.values <= views_per_day.values"
   ]
  },
  {
   "cell_type": "code",
   "execution_count": 21,
   "id": "e40e4185",
   "metadata": {},
   "outputs": [
    {
     "data": {
      "text/html": [
       "<div>\n",
       "<style scoped>\n",
       "    .dataframe tbody tr th:only-of-type {\n",
       "        vertical-align: middle;\n",
       "    }\n",
       "\n",
       "    .dataframe tbody tr th {\n",
       "        vertical-align: top;\n",
       "    }\n",
       "\n",
       "    .dataframe thead th {\n",
       "        text-align: right;\n",
       "    }\n",
       "</style>\n",
       "<table border=\"1\" class=\"dataframe\">\n",
       "  <thead>\n",
       "    <tr style=\"text-align: right;\">\n",
       "      <th></th>\n",
       "      <th>page_load_ms</th>\n",
       "      <th>video_watched_s</th>\n",
       "      <th>product_s</th>\n",
       "      <th>pricing_s</th>\n",
       "      <th>has_clicked</th>\n",
       "      <th>video_watched_trunc</th>\n",
       "    </tr>\n",
       "  </thead>\n",
       "  <tbody>\n",
       "    <tr>\n",
       "      <th>page_load_ms</th>\n",
       "      <td>1.000000</td>\n",
       "      <td>-0.090894</td>\n",
       "      <td>0.001700</td>\n",
       "      <td>-0.606251</td>\n",
       "      <td>-0.394026</td>\n",
       "      <td>-0.090442</td>\n",
       "    </tr>\n",
       "    <tr>\n",
       "      <th>video_watched_s</th>\n",
       "      <td>-0.090894</td>\n",
       "      <td>1.000000</td>\n",
       "      <td>0.002235</td>\n",
       "      <td>-0.479859</td>\n",
       "      <td>0.329487</td>\n",
       "      <td>0.998846</td>\n",
       "    </tr>\n",
       "    <tr>\n",
       "      <th>product_s</th>\n",
       "      <td>0.001700</td>\n",
       "      <td>0.002235</td>\n",
       "      <td>1.000000</td>\n",
       "      <td>-0.003961</td>\n",
       "      <td>-0.001078</td>\n",
       "      <td>0.002131</td>\n",
       "    </tr>\n",
       "    <tr>\n",
       "      <th>pricing_s</th>\n",
       "      <td>-0.606251</td>\n",
       "      <td>-0.479859</td>\n",
       "      <td>-0.003961</td>\n",
       "      <td>1.000000</td>\n",
       "      <td>0.104316</td>\n",
       "      <td>-0.485543</td>\n",
       "    </tr>\n",
       "    <tr>\n",
       "      <th>has_clicked</th>\n",
       "      <td>-0.394026</td>\n",
       "      <td>0.329487</td>\n",
       "      <td>-0.001078</td>\n",
       "      <td>0.104316</td>\n",
       "      <td>1.000000</td>\n",
       "      <td>0.328302</td>\n",
       "    </tr>\n",
       "    <tr>\n",
       "      <th>video_watched_trunc</th>\n",
       "      <td>-0.090442</td>\n",
       "      <td>0.998846</td>\n",
       "      <td>0.002131</td>\n",
       "      <td>-0.485543</td>\n",
       "      <td>0.328302</td>\n",
       "      <td>1.000000</td>\n",
       "    </tr>\n",
       "  </tbody>\n",
       "</table>\n",
       "</div>"
      ],
      "text/plain": [
       "                     page_load_ms  video_watched_s  product_s  pricing_s  \\\n",
       "page_load_ms             1.000000        -0.090894   0.001700  -0.606251   \n",
       "video_watched_s         -0.090894         1.000000   0.002235  -0.479859   \n",
       "product_s                0.001700         0.002235   1.000000  -0.003961   \n",
       "pricing_s               -0.606251        -0.479859  -0.003961   1.000000   \n",
       "has_clicked             -0.394026         0.329487  -0.001078   0.104316   \n",
       "video_watched_trunc     -0.090442         0.998846   0.002131  -0.485543   \n",
       "\n",
       "                     has_clicked  video_watched_trunc  \n",
       "page_load_ms           -0.394026            -0.090442  \n",
       "video_watched_s         0.329487             0.998846  \n",
       "product_s              -0.001078             0.002131  \n",
       "pricing_s               0.104316            -0.485543  \n",
       "has_clicked             1.000000             0.328302  \n",
       "video_watched_trunc     0.328302             1.000000  "
      ]
     },
     "execution_count": 21,
     "metadata": {},
     "output_type": "execute_result"
    }
   ],
   "source": [
    "df.corr()"
   ]
  },
  {
   "cell_type": "code",
   "execution_count": 22,
   "id": "afbdd743",
   "metadata": {},
   "outputs": [
    {
     "data": {
      "text/plain": [
       "created_at\n",
       "2020-01-01 22:26:00     True\n",
       "2020-01-01 09:03:00     True\n",
       "2020-01-01 18:26:00     True\n",
       "2020-01-01 04:46:00     True\n",
       "2020-01-01 07:58:00     True\n",
       "                       ...  \n",
       "2020-04-09 20:06:00    False\n",
       "2020-04-09 05:08:00    False\n",
       "2020-04-09 08:38:00    False\n",
       "2020-04-09 09:17:00    False\n",
       "2020-04-09 02:56:00    False\n",
       "Name: webpage, Length: 119159, dtype: bool"
      ]
     },
     "execution_count": 22,
     "metadata": {},
     "output_type": "execute_result"
    }
   ],
   "source": [
    "df[\"webpage\"] == \"A\""
   ]
  },
  {
   "cell_type": "code",
   "execution_count": 23,
   "id": "fcb492d9",
   "metadata": {},
   "outputs": [
    {
     "name": "stdout",
     "output_type": "stream",
     "text": [
      "0.28972509913497413\n",
      "0.39660223599137934\n"
     ]
    }
   ],
   "source": [
    "viewsA = df[df[\"webpage\"] == \"A\"]\n",
    "viewsB = df[df[\"webpage\"] == \"B\"]\n",
    "print(viewsA[\"has_clicked\"].mean())\n",
    "print(viewsB[\"has_clicked\"].mean())"
   ]
  },
  {
   "cell_type": "code",
   "execution_count": null,
   "id": "f14cc0f7",
   "metadata": {},
   "outputs": [],
   "source": []
  }
 ],
 "metadata": {
  "kernelspec": {
   "display_name": "Python 3",
   "language": "python",
   "name": "python3"
  },
  "language_info": {
   "codemirror_mode": {
    "name": "ipython",
    "version": 3
   },
   "file_extension": ".py",
   "mimetype": "text/x-python",
   "name": "python",
   "nbconvert_exporter": "python",
   "pygments_lexer": "ipython3",
   "version": "3.8.8"
  }
 },
 "nbformat": 4,
 "nbformat_minor": 5
}
